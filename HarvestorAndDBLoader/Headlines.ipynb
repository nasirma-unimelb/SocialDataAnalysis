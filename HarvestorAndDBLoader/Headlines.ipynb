{
 "cells": [
  {
   "cell_type": "code",
   "execution_count": 1,
   "id": "3546aa08",
   "metadata": {},
   "outputs": [],
   "source": [
    "import pandas as pd\n",
    "import matplotlib.pyplot as plt\n",
    "import numpy as np\n",
    "from scipy.stats import pearsonr\n",
    "import datetime as dt"
   ]
  },
  {
   "cell_type": "code",
   "execution_count": 2,
   "id": "ebb0b84d",
   "metadata": {},
   "outputs": [
    {
     "data": {
      "text/html": [
       "<div>\n",
       "<style scoped>\n",
       "    .dataframe tbody tr th:only-of-type {\n",
       "        vertical-align: middle;\n",
       "    }\n",
       "\n",
       "    .dataframe tbody tr th {\n",
       "        vertical-align: top;\n",
       "    }\n",
       "\n",
       "    .dataframe thead th {\n",
       "        text-align: right;\n",
       "    }\n",
       "</style>\n",
       "<table border=\"1\" class=\"dataframe\">\n",
       "  <thead>\n",
       "    <tr style=\"text-align: right;\">\n",
       "      <th></th>\n",
       "      <th>id</th>\n",
       "      <th>author_id</th>\n",
       "      <th>timestamp</th>\n",
       "      <th>text</th>\n",
       "      <th>search_term</th>\n",
       "      <th>location</th>\n",
       "      <th>coordinates</th>\n",
       "      <th>sentiment</th>\n",
       "      <th>gcc</th>\n",
       "      <th>topic</th>\n",
       "      <th>year</th>\n",
       "      <th>month</th>\n",
       "      <th>day</th>\n",
       "      <th>hour</th>\n",
       "      <th>week</th>\n",
       "      <th>state</th>\n",
       "    </tr>\n",
       "  </thead>\n",
       "  <tbody>\n",
       "    <tr>\n",
       "      <th>7</th>\n",
       "      <td>1516166460426665992</td>\n",
       "      <td>961128374751125505</td>\n",
       "      <td>2022-04-18 21:27:07</td>\n",
       "      <td>@deemadigan Geez they had to add some nonsense...</td>\n",
       "      <td>inflation</td>\n",
       "      <td>Melbourne, Victoria</td>\n",
       "      <td>NaN</td>\n",
       "      <td>0.239130</td>\n",
       "      <td>2gmel</td>\n",
       "      <td>inflation</td>\n",
       "      <td>2022</td>\n",
       "      <td>4</td>\n",
       "      <td>18</td>\n",
       "      <td>21</td>\n",
       "      <td>16</td>\n",
       "      <td>vic</td>\n",
       "    </tr>\n",
       "    <tr>\n",
       "      <th>31</th>\n",
       "      <td>1546691617767424000</td>\n",
       "      <td>907645652</td>\n",
       "      <td>2022-07-12 03:03:12</td>\n",
       "      <td>Internal pictures have no captions or identifi...</td>\n",
       "      <td>housing</td>\n",
       "      <td>Sydney, New South Wales</td>\n",
       "      <td>NaN</td>\n",
       "      <td>0.032258</td>\n",
       "      <td>1gsyd</td>\n",
       "      <td>housing</td>\n",
       "      <td>2022</td>\n",
       "      <td>7</td>\n",
       "      <td>12</td>\n",
       "      <td>3</td>\n",
       "      <td>28</td>\n",
       "      <td>nsw</td>\n",
       "    </tr>\n",
       "    <tr>\n",
       "      <th>49</th>\n",
       "      <td>1521432446029680640</td>\n",
       "      <td>826332877457481728</td>\n",
       "      <td>2022-05-03 10:12:16</td>\n",
       "      <td>@spiritgateoz @ricklevy67 @ScottMorrisonMP @Al...</td>\n",
       "      <td>housing</td>\n",
       "      <td>Adelaide, South Australia</td>\n",
       "      <td>NaN</td>\n",
       "      <td>0.181818</td>\n",
       "      <td>4gade</td>\n",
       "      <td>housing</td>\n",
       "      <td>2022</td>\n",
       "      <td>5</td>\n",
       "      <td>3</td>\n",
       "      <td>10</td>\n",
       "      <td>18</td>\n",
       "      <td>sa</td>\n",
       "    </tr>\n",
       "    <tr>\n",
       "      <th>64</th>\n",
       "      <td>1539149240379019264</td>\n",
       "      <td>3107950518</td>\n",
       "      <td>2022-06-21 07:32:29</td>\n",
       "      <td>@BlytheByName @KerrieT35027863 Because politic...</td>\n",
       "      <td>jobseeker</td>\n",
       "      <td>Hobart, Tasmania</td>\n",
       "      <td>NaN</td>\n",
       "      <td>-0.032258</td>\n",
       "      <td>6ghob</td>\n",
       "      <td>social security</td>\n",
       "      <td>2022</td>\n",
       "      <td>6</td>\n",
       "      <td>21</td>\n",
       "      <td>7</td>\n",
       "      <td>25</td>\n",
       "      <td>tas</td>\n",
       "    </tr>\n",
       "    <tr>\n",
       "      <th>81</th>\n",
       "      <td>1525816337104515073</td>\n",
       "      <td>14241904</td>\n",
       "      <td>2022-05-15 12:32:17</td>\n",
       "      <td>@Just_Westy @TroyBramston Yes. Like negative g...</td>\n",
       "      <td>housing</td>\n",
       "      <td>Brisbane, Queensland</td>\n",
       "      <td>NaN</td>\n",
       "      <td>-0.055556</td>\n",
       "      <td>3gbri</td>\n",
       "      <td>housing</td>\n",
       "      <td>2022</td>\n",
       "      <td>5</td>\n",
       "      <td>15</td>\n",
       "      <td>12</td>\n",
       "      <td>19</td>\n",
       "      <td>qld</td>\n",
       "    </tr>\n",
       "  </tbody>\n",
       "</table>\n",
       "</div>"
      ],
      "text/plain": [
       "                     id           author_id            timestamp  \\\n",
       "7   1516166460426665992  961128374751125505  2022-04-18 21:27:07   \n",
       "31  1546691617767424000           907645652  2022-07-12 03:03:12   \n",
       "49  1521432446029680640  826332877457481728  2022-05-03 10:12:16   \n",
       "64  1539149240379019264          3107950518  2022-06-21 07:32:29   \n",
       "81  1525816337104515073            14241904  2022-05-15 12:32:17   \n",
       "\n",
       "                                                 text search_term  \\\n",
       "7   @deemadigan Geez they had to add some nonsense...   inflation   \n",
       "31  Internal pictures have no captions or identifi...     housing   \n",
       "49  @spiritgateoz @ricklevy67 @ScottMorrisonMP @Al...     housing   \n",
       "64  @BlytheByName @KerrieT35027863 Because politic...   jobseeker   \n",
       "81  @Just_Westy @TroyBramston Yes. Like negative g...     housing   \n",
       "\n",
       "                     location coordinates  sentiment    gcc            topic  \\\n",
       "7         Melbourne, Victoria         NaN   0.239130  2gmel        inflation   \n",
       "31    Sydney, New South Wales         NaN   0.032258  1gsyd          housing   \n",
       "49  Adelaide, South Australia         NaN   0.181818  4gade          housing   \n",
       "64           Hobart, Tasmania         NaN  -0.032258  6ghob  social security   \n",
       "81       Brisbane, Queensland         NaN  -0.055556  3gbri          housing   \n",
       "\n",
       "    year  month  day  hour  week state  \n",
       "7   2022      4   18    21    16   vic  \n",
       "31  2022      7   12     3    28   nsw  \n",
       "49  2022      5    3    10    18    sa  \n",
       "64  2022      6   21     7    25   tas  \n",
       "81  2022      5   15    12    19   qld  "
      ]
     },
     "execution_count": 2,
     "metadata": {},
     "output_type": "execute_result"
    }
   ],
   "source": [
    "twitter_df = pd.read_csv('twitter.csv')\n",
    "twitter_loc_df = twitter_df[~twitter_df.location.isna()]\n",
    "twitter_loc_df.head()"
   ]
  },
  {
   "cell_type": "code",
   "execution_count": 3,
   "id": "71bdb598",
   "metadata": {},
   "outputs": [
    {
     "data": {
      "text/html": [
       "<div>\n",
       "<style scoped>\n",
       "    .dataframe tbody tr th:only-of-type {\n",
       "        vertical-align: middle;\n",
       "    }\n",
       "\n",
       "    .dataframe tbody tr th {\n",
       "        vertical-align: top;\n",
       "    }\n",
       "\n",
       "    .dataframe thead th {\n",
       "        text-align: right;\n",
       "    }\n",
       "</style>\n",
       "<table border=\"1\" class=\"dataframe\">\n",
       "  <thead>\n",
       "    <tr style=\"text-align: right;\">\n",
       "      <th>topic</th>\n",
       "      <th>gccsa</th>\n",
       "      <th>housing_tws</th>\n",
       "      <th>inflation_tws</th>\n",
       "      <th>interest_rate_tws</th>\n",
       "      <th>social_security_tws</th>\n",
       "    </tr>\n",
       "  </thead>\n",
       "  <tbody>\n",
       "    <tr>\n",
       "      <th>0</th>\n",
       "      <td>1gsyd</td>\n",
       "      <td>283</td>\n",
       "      <td>260</td>\n",
       "      <td>165</td>\n",
       "      <td>113</td>\n",
       "    </tr>\n",
       "    <tr>\n",
       "      <th>1</th>\n",
       "      <td>1rnsw</td>\n",
       "      <td>97</td>\n",
       "      <td>67</td>\n",
       "      <td>36</td>\n",
       "      <td>47</td>\n",
       "    </tr>\n",
       "    <tr>\n",
       "      <th>2</th>\n",
       "      <td>2gmel</td>\n",
       "      <td>305</td>\n",
       "      <td>268</td>\n",
       "      <td>150</td>\n",
       "      <td>121</td>\n",
       "    </tr>\n",
       "    <tr>\n",
       "      <th>3</th>\n",
       "      <td>2rvic</td>\n",
       "      <td>49</td>\n",
       "      <td>44</td>\n",
       "      <td>19</td>\n",
       "      <td>28</td>\n",
       "    </tr>\n",
       "    <tr>\n",
       "      <th>4</th>\n",
       "      <td>3gbri</td>\n",
       "      <td>130</td>\n",
       "      <td>103</td>\n",
       "      <td>62</td>\n",
       "      <td>53</td>\n",
       "    </tr>\n",
       "    <tr>\n",
       "      <th>5</th>\n",
       "      <td>3rqld</td>\n",
       "      <td>122</td>\n",
       "      <td>100</td>\n",
       "      <td>47</td>\n",
       "      <td>36</td>\n",
       "    </tr>\n",
       "    <tr>\n",
       "      <th>6</th>\n",
       "      <td>4gade</td>\n",
       "      <td>72</td>\n",
       "      <td>63</td>\n",
       "      <td>35</td>\n",
       "      <td>30</td>\n",
       "    </tr>\n",
       "    <tr>\n",
       "      <th>7</th>\n",
       "      <td>4rsau</td>\n",
       "      <td>11</td>\n",
       "      <td>7</td>\n",
       "      <td>6</td>\n",
       "      <td>5</td>\n",
       "    </tr>\n",
       "    <tr>\n",
       "      <th>8</th>\n",
       "      <td>5gper</td>\n",
       "      <td>98</td>\n",
       "      <td>76</td>\n",
       "      <td>48</td>\n",
       "      <td>33</td>\n",
       "    </tr>\n",
       "    <tr>\n",
       "      <th>9</th>\n",
       "      <td>5rwau</td>\n",
       "      <td>14</td>\n",
       "      <td>16</td>\n",
       "      <td>5</td>\n",
       "      <td>3</td>\n",
       "    </tr>\n",
       "    <tr>\n",
       "      <th>10</th>\n",
       "      <td>6ghob</td>\n",
       "      <td>30</td>\n",
       "      <td>16</td>\n",
       "      <td>3</td>\n",
       "      <td>8</td>\n",
       "    </tr>\n",
       "    <tr>\n",
       "      <th>11</th>\n",
       "      <td>6rtas</td>\n",
       "      <td>12</td>\n",
       "      <td>8</td>\n",
       "      <td>6</td>\n",
       "      <td>3</td>\n",
       "    </tr>\n",
       "    <tr>\n",
       "      <th>12</th>\n",
       "      <td>7gdar</td>\n",
       "      <td>11</td>\n",
       "      <td>5</td>\n",
       "      <td>5</td>\n",
       "      <td>4</td>\n",
       "    </tr>\n",
       "    <tr>\n",
       "      <th>13</th>\n",
       "      <td>7rnte</td>\n",
       "      <td>5</td>\n",
       "      <td>3</td>\n",
       "      <td>1</td>\n",
       "      <td>3</td>\n",
       "    </tr>\n",
       "    <tr>\n",
       "      <th>14</th>\n",
       "      <td>8acte</td>\n",
       "      <td>64</td>\n",
       "      <td>34</td>\n",
       "      <td>14</td>\n",
       "      <td>15</td>\n",
       "    </tr>\n",
       "  </tbody>\n",
       "</table>\n",
       "</div>"
      ],
      "text/plain": [
       "topic  gccsa  housing_tws  inflation_tws  interest_rate_tws  \\\n",
       "0      1gsyd          283            260                165   \n",
       "1      1rnsw           97             67                 36   \n",
       "2      2gmel          305            268                150   \n",
       "3      2rvic           49             44                 19   \n",
       "4      3gbri          130            103                 62   \n",
       "5      3rqld          122            100                 47   \n",
       "6      4gade           72             63                 35   \n",
       "7      4rsau           11              7                  6   \n",
       "8      5gper           98             76                 48   \n",
       "9      5rwau           14             16                  5   \n",
       "10     6ghob           30             16                  3   \n",
       "11     6rtas           12              8                  6   \n",
       "12     7gdar           11              5                  5   \n",
       "13     7rnte            5              3                  1   \n",
       "14     8acte           64             34                 14   \n",
       "\n",
       "topic  social_security_tws  \n",
       "0                      113  \n",
       "1                       47  \n",
       "2                      121  \n",
       "3                       28  \n",
       "4                       53  \n",
       "5                       36  \n",
       "6                       30  \n",
       "7                        5  \n",
       "8                       33  \n",
       "9                        3  \n",
       "10                       8  \n",
       "11                       3  \n",
       "12                       4  \n",
       "13                       3  \n",
       "14                      15  "
      ]
     },
     "execution_count": 3,
     "metadata": {},
     "output_type": "execute_result"
    }
   ],
   "source": [
    "twitter_loc_agg_df = twitter_loc_df.groupby(['gcc','topic']).agg({'id':'count','author_id':'nunique'}).reset_index().sort_values('gcc')\n",
    "twitter_loc_agg_df = twitter_loc_agg_df.pivot('gcc','topic','author_id').reset_index()\n",
    "twitter_loc_agg_df.rename(columns={'housing':'housing_tws',\n",
    "                           'inflation':'inflation_tws',\n",
    "                           'interest rate':'interest_rate_tws',\n",
    "                           'social security':'social_security_tws',\n",
    "                           'gcc':'gccsa'}, inplace=True)\n",
    "twitter_loc_agg_df.head(15)"
   ]
  },
  {
   "cell_type": "code",
   "execution_count": 7,
   "id": "ca332cf0",
   "metadata": {},
   "outputs": [],
   "source": [
    "housing_totals_df = pd.read_csv('data_GCCSA/sudo_gccsa_housing_totals_2016.csv')\n",
    "housing_totals_df['gcc_code16'] = housing_totals_df['gcc_code16'].str.lower()\n",
    "housing_totals_df.rename(columns={'gcc_code16':'gccsa'}, inplace=True)\n",
    "income_avg_df = pd.read_csv('data_GCCSA/sudo_gccsa_income_mortgage_rent_avg_2016.csv')\n",
    "income_avg_df['gcc_code16'] = income_avg_df['gcc_code16'].str.lower()\n",
    "income_avg_df.rename(columns={'gcc_code16':'gccsa'}, inplace=True)\n",
    "inequality_df = pd.read_csv('data_GCCSA/sudo_gccsa_inequality_2017.csv')\n",
    "inequality_df['gccsa_code'] = inequality_df['gccsa_code'].str.lower()\n",
    "inequality_df.rename(columns={'gccsa_code':'gccsa'}, inplace=True)"
   ]
  },
  {
   "cell_type": "code",
   "execution_count": 8,
   "id": "a65aa47e",
   "metadata": {},
   "outputs": [
    {
     "data": {
      "text/html": [
       "<div>\n",
       "<style scoped>\n",
       "    .dataframe tbody tr th:only-of-type {\n",
       "        vertical-align: middle;\n",
       "    }\n",
       "\n",
       "    .dataframe tbody tr th {\n",
       "        vertical-align: top;\n",
       "    }\n",
       "\n",
       "    .dataframe thead th {\n",
       "        text-align: right;\n",
       "    }\n",
       "</style>\n",
       "<table border=\"1\" class=\"dataframe\">\n",
       "  <thead>\n",
       "    <tr style=\"text-align: right;\">\n",
       "      <th></th>\n",
       "      <th>gccsa</th>\n",
       "      <th>gcc_name16</th>\n",
       "      <th>rent_total</th>\n",
       "      <th>own_mortgage_total</th>\n",
       "      <th>own_outright_total</th>\n",
       "    </tr>\n",
       "  </thead>\n",
       "  <tbody>\n",
       "    <tr>\n",
       "      <th>0</th>\n",
       "      <td>1gsyd</td>\n",
       "      <td>Greater Sydney</td>\n",
       "      <td>553249</td>\n",
       "      <td>539917</td>\n",
       "      <td>472635</td>\n",
       "    </tr>\n",
       "    <tr>\n",
       "      <th>1</th>\n",
       "      <td>1rnsw</td>\n",
       "      <td>Rest of NSW</td>\n",
       "      <td>273674</td>\n",
       "      <td>300087</td>\n",
       "      <td>367033</td>\n",
       "    </tr>\n",
       "    <tr>\n",
       "      <th>2</th>\n",
       "      <td>2gmel</td>\n",
       "      <td>Greater Melbourne</td>\n",
       "      <td>472462</td>\n",
       "      <td>567574</td>\n",
       "      <td>479374</td>\n",
       "    </tr>\n",
       "    <tr>\n",
       "      <th>3</th>\n",
       "      <td>2rvic</td>\n",
       "      <td>Rest of Vic.</td>\n",
       "      <td>134890</td>\n",
       "      <td>178924</td>\n",
       "      <td>203317</td>\n",
       "    </tr>\n",
       "    <tr>\n",
       "      <th>4</th>\n",
       "      <td>3gbri</td>\n",
       "      <td>Greater Brisbane</td>\n",
       "      <td>272751</td>\n",
       "      <td>281867</td>\n",
       "      <td>208811</td>\n",
       "    </tr>\n",
       "  </tbody>\n",
       "</table>\n",
       "</div>"
      ],
      "text/plain": [
       "   gccsa         gcc_name16  rent_total  own_mortgage_total  \\\n",
       "0  1gsyd     Greater Sydney      553249              539917   \n",
       "1  1rnsw        Rest of NSW      273674              300087   \n",
       "2  2gmel  Greater Melbourne      472462              567574   \n",
       "3  2rvic       Rest of Vic.      134890              178924   \n",
       "4  3gbri   Greater Brisbane      272751              281867   \n",
       "\n",
       "   own_outright_total  \n",
       "0              472635  \n",
       "1              367033  \n",
       "2              479374  \n",
       "3              203317  \n",
       "4              208811  "
      ]
     },
     "execution_count": 8,
     "metadata": {},
     "output_type": "execute_result"
    }
   ],
   "source": [
    "housing_totals_df.head()"
   ]
  },
  {
   "cell_type": "code",
   "execution_count": 9,
   "id": "3cbc0407",
   "metadata": {
    "scrolled": true
   },
   "outputs": [
    {
     "data": {
      "text/html": [
       "<div>\n",
       "<style scoped>\n",
       "    .dataframe tbody tr th:only-of-type {\n",
       "        vertical-align: middle;\n",
       "    }\n",
       "\n",
       "    .dataframe tbody tr th {\n",
       "        vertical-align: top;\n",
       "    }\n",
       "\n",
       "    .dataframe thead th {\n",
       "        text-align: right;\n",
       "    }\n",
       "</style>\n",
       "<table border=\"1\" class=\"dataframe\">\n",
       "  <thead>\n",
       "    <tr style=\"text-align: right;\">\n",
       "      <th></th>\n",
       "      <th>gccsa</th>\n",
       "      <th>housing_tws</th>\n",
       "      <th>inflation_tws</th>\n",
       "      <th>interest_rate_tws</th>\n",
       "      <th>social_security_tws</th>\n",
       "      <th>rent_total</th>\n",
       "      <th>own_mortgage_total</th>\n",
       "      <th>own_outright_total</th>\n",
       "      <th>median_tot_hhd_inc_weekly</th>\n",
       "      <th>median_mortgage_repay_monthly</th>\n",
       "      <th>median_age_of_earners_years</th>\n",
       "      <th>earners_persons</th>\n",
       "      <th>gini_coefficient_coef</th>\n",
       "    </tr>\n",
       "  </thead>\n",
       "  <tbody>\n",
       "    <tr>\n",
       "      <th>0</th>\n",
       "      <td>1gsyd</td>\n",
       "      <td>283</td>\n",
       "      <td>260</td>\n",
       "      <td>165</td>\n",
       "      <td>113</td>\n",
       "      <td>553249</td>\n",
       "      <td>539917</td>\n",
       "      <td>472635</td>\n",
       "      <td>1750</td>\n",
       "      <td>2167</td>\n",
       "      <td>40</td>\n",
       "      <td>2909201</td>\n",
       "      <td>0.493</td>\n",
       "    </tr>\n",
       "    <tr>\n",
       "      <th>1</th>\n",
       "      <td>1rnsw</td>\n",
       "      <td>97</td>\n",
       "      <td>67</td>\n",
       "      <td>36</td>\n",
       "      <td>47</td>\n",
       "      <td>273674</td>\n",
       "      <td>300087</td>\n",
       "      <td>367033</td>\n",
       "      <td>1168</td>\n",
       "      <td>1590</td>\n",
       "      <td>45</td>\n",
       "      <td>1435100</td>\n",
       "      <td>0.470</td>\n",
       "    </tr>\n",
       "    <tr>\n",
       "      <th>2</th>\n",
       "      <td>2gmel</td>\n",
       "      <td>305</td>\n",
       "      <td>268</td>\n",
       "      <td>150</td>\n",
       "      <td>121</td>\n",
       "      <td>472462</td>\n",
       "      <td>567574</td>\n",
       "      <td>479374</td>\n",
       "      <td>1542</td>\n",
       "      <td>1800</td>\n",
       "      <td>40</td>\n",
       "      <td>2671373</td>\n",
       "      <td>0.483</td>\n",
       "    </tr>\n",
       "    <tr>\n",
       "      <th>3</th>\n",
       "      <td>2rvic</td>\n",
       "      <td>49</td>\n",
       "      <td>44</td>\n",
       "      <td>19</td>\n",
       "      <td>28</td>\n",
       "      <td>134890</td>\n",
       "      <td>178924</td>\n",
       "      <td>203317</td>\n",
       "      <td>1124</td>\n",
       "      <td>1300</td>\n",
       "      <td>45</td>\n",
       "      <td>802387</td>\n",
       "      <td>0.464</td>\n",
       "    </tr>\n",
       "    <tr>\n",
       "      <th>4</th>\n",
       "      <td>3gbri</td>\n",
       "      <td>130</td>\n",
       "      <td>103</td>\n",
       "      <td>62</td>\n",
       "      <td>53</td>\n",
       "      <td>272751</td>\n",
       "      <td>281867</td>\n",
       "      <td>208811</td>\n",
       "      <td>1562</td>\n",
       "      <td>1861</td>\n",
       "      <td>40</td>\n",
       "      <td>1347196</td>\n",
       "      <td>0.464</td>\n",
       "    </tr>\n",
       "  </tbody>\n",
       "</table>\n",
       "</div>"
      ],
      "text/plain": [
       "   gccsa  housing_tws  inflation_tws  interest_rate_tws  social_security_tws  \\\n",
       "0  1gsyd          283            260                165                  113   \n",
       "1  1rnsw           97             67                 36                   47   \n",
       "2  2gmel          305            268                150                  121   \n",
       "3  2rvic           49             44                 19                   28   \n",
       "4  3gbri          130            103                 62                   53   \n",
       "\n",
       "   rent_total  own_mortgage_total  own_outright_total  \\\n",
       "0      553249              539917              472635   \n",
       "1      273674              300087              367033   \n",
       "2      472462              567574              479374   \n",
       "3      134890              178924              203317   \n",
       "4      272751              281867              208811   \n",
       "\n",
       "   median_tot_hhd_inc_weekly  median_mortgage_repay_monthly  \\\n",
       "0                       1750                           2167   \n",
       "1                       1168                           1590   \n",
       "2                       1542                           1800   \n",
       "3                       1124                           1300   \n",
       "4                       1562                           1861   \n",
       "\n",
       "   median_age_of_earners_years  earners_persons  gini_coefficient_coef  \n",
       "0                           40          2909201                  0.493  \n",
       "1                           45          1435100                  0.470  \n",
       "2                           40          2671373                  0.483  \n",
       "3                           45           802387                  0.464  \n",
       "4                           40          1347196                  0.464  "
      ]
     },
     "execution_count": 9,
     "metadata": {},
     "output_type": "execute_result"
    }
   ],
   "source": [
    "combined_df = pd.merge(twitter_loc_agg_df, housing_totals_df.drop('gcc_name16',axis=1), on='gccsa', how='inner')\n",
    "combined_df = pd.merge(combined_df, income_avg_df[['gccsa',\n",
    "                                                   'median_tot_hhd_inc_weekly',\n",
    "                                                   'median_mortgage_repay_monthly']], on='gccsa', how='inner')\n",
    "combined_df = pd.merge(combined_df, inequality_df[['gccsa',\n",
    "                                                   'median_age_of_earners_years',\n",
    "                                                   'earners_persons',\n",
    "                                                   'gini_coefficient_coef']], on='gccsa', how='inner')\n",
    "combined_df.head()                                                  "
   ]
  },
  {
   "cell_type": "code",
   "execution_count": 10,
   "id": "e48bbc7f",
   "metadata": {},
   "outputs": [],
   "source": [
    "for col in combined_df.columns:\n",
    "    if col in ['housing_tws','inflation_tws','interest_rate_tws','social_security_tws']:\n",
    "        combined_df[f'{col}_pc'] = combined_df[col]/combined_df.earners_persons*100_000\n",
    "for col in combined_df.columns:\n",
    "    if col in ['rent_total','own_mortgage_total','own_outright_total']:\n",
    "        combined_df[f'{col}_pc'] = combined_df[col]/combined_df.earners_persons"
   ]
  },
  {
   "cell_type": "code",
   "execution_count": 11,
   "id": "811d0970",
   "metadata": {},
   "outputs": [],
   "source": [
    "combined_df['rural_urban'] = ['U','R','U','R','U','R','U','R','U','R','U','R','U','R','U']"
   ]
  },
  {
   "cell_type": "code",
   "execution_count": 12,
   "id": "0332758c",
   "metadata": {},
   "outputs": [
    {
     "data": {
      "text/plain": [
       "Index(['gccsa', 'housing_tws', 'inflation_tws', 'interest_rate_tws',\n",
       "       'social_security_tws', 'rent_total', 'own_mortgage_total',\n",
       "       'own_outright_total', 'median_tot_hhd_inc_weekly',\n",
       "       'median_mortgage_repay_monthly', 'median_age_of_earners_years',\n",
       "       'earners_persons', 'gini_coefficient_coef', 'housing_tws_pc',\n",
       "       'inflation_tws_pc', 'interest_rate_tws_pc', 'social_security_tws_pc',\n",
       "       'rent_total_pc', 'own_mortgage_total_pc', 'own_outright_total_pc',\n",
       "       'rural_urban'],\n",
       "      dtype='object')"
      ]
     },
     "execution_count": 12,
     "metadata": {},
     "output_type": "execute_result"
    }
   ],
   "source": [
    "combined_df.columns"
   ]
  },
  {
   "cell_type": "code",
   "execution_count": 13,
   "id": "95e08c7e",
   "metadata": {},
   "outputs": [
    {
     "name": "stdout",
     "output_type": "stream",
     "text": [
      "                        housing_tws_pc  inflation_tws_pc  interest_rate_tws_pc  social_security_tws_pc\n",
      "housing_tws_pc                1.000000          0.881465              0.248801                0.730062\n",
      "inflation_tws_pc              0.881465          1.000000              0.355722                0.651058\n",
      "interest_rate_tws_pc          0.248801          0.355722              1.000000                0.161357\n",
      "social_security_tws_pc        0.730062          0.651058              0.161357                1.000000\n"
     ]
    }
   ],
   "source": [
    "corr_matrix = combined_df[[col for col in combined_df.columns if 'tws_pc' in col]].corr().to_string()\n",
    "print(corr_matrix)"
   ]
  },
  {
   "cell_type": "code",
   "execution_count": 14,
   "id": "0fe80884",
   "metadata": {},
   "outputs": [
    {
     "name": "stdout",
     "output_type": "stream",
     "text": [
      "(-0.4215552858262992, 0.11757744353141265)\n"
     ]
    },
    {
     "data": {
      "image/png": "[encoded data removed]",
      "text/plain": [
       "<Figure size 432x288 with 1 Axes>"
      ]
     },
     "metadata": {
      "needs_background": "light"
     },
     "output_type": "display_data"
    }
   ],
   "source": [
    "x = combined_df['own_outright_total_pc']\n",
    "y = combined_df['interest_rate_tws_pc']\n",
    "c = combined_df['rural_urban'].map({'R':'green', 'U':'orange'})\n",
    "\n",
    "plt.scatter(x, y, c=c)\n",
    "for i, txt in enumerate(combined_df['gccsa']):\n",
    "    plt.annotate(txt, (x[i], y[i]))\n",
    "\n",
    "print(pearsonr(x, y))"
   ]
  },
  {
   "cell_type": "code",
   "execution_count": 15,
   "id": "9f1afefd",
   "metadata": {},
   "outputs": [
    {
     "name": "stdout",
     "output_type": "stream",
     "text": [
      "(0.6136660003833199, 0.014963545898507393)\n"
     ]
    },
    {
     "data": {
      "image/png": "[encoded data removed]",
      "text/plain": [
       "<Figure size 432x288 with 1 Axes>"
      ]
     },
     "metadata": {
      "needs_background": "light"
     },
     "output_type": "display_data"
    }
   ],
   "source": [
    "#1\n",
    "\n",
    "x = combined_df['median_mortgage_repay_monthly']\n",
    "y = combined_df['interest_rate_tws_pc']\n",
    "c = combined_df['rural_urban'].map({'R':'green', 'U':'orange'})\n",
    "\n",
    "plt.scatter(x, y, c=c)\n",
    "for i, txt in enumerate(combined_df['gccsa']):\n",
    "    plt.annotate(txt, (x[i], y[i]))\n",
    "\n",
    "print(pearsonr(x, y))"
   ]
  },
  {
   "cell_type": "code",
   "execution_count": 16,
   "id": "4ce9f2f3",
   "metadata": {},
   "outputs": [],
   "source": [
    "interest_df = pd.read_csv('data_GCCSA/rba_target_cash_rate.csv')\n",
    "interest_df['date'] = pd.to_datetime(interest_df['date'], format=\"%d/%m/%Y\")\n",
    "interest_df['week'] = interest_df['date'].dt.isocalendar().week\n",
    "interest_df['month'] = interest_df['date'].dt.month\n",
    "interest_sample_df = interest_df[(interest_df['date']>=dt.datetime(2022,2,10))&(interest_df['date']<=dt.datetime(2022,8,10))]\n",
    "interest_sample_df = interest_sample_df.groupby('week').agg({'target_cash_rate':'max'}).reset_index()\n",
    "\n",
    "inflation_df = pd.read_csv('data_GCCSA/inflation.csv')\n",
    "inflation_df['date'] = pd.to_datetime(inflation_df['date'], format=\"%d/%m/%Y\")\n",
    "inflation_df['month'] = inflation_df['date'].dt.month\n",
    "inflation_sample_df = inflation_df[(inflation_df['date']>=dt.datetime(2022,2,1))&(inflation_df['date']<=dt.datetime(2022,8,10))]\n",
    "inflation_sample_df = pd.merge(interest_df[['date','week','month']], inflation_sample_df[['month','cpi']], on='month')\n",
    "inflation_sample_df = inflation_sample_df.drop_duplicates('week')\n",
    "inflation_sample_df = inflation_sample_df[(inflation_sample_df['week']>5)&(inflation_sample_df['week']<33)].reset_index()"
   ]
  },
  {
   "cell_type": "code",
   "execution_count": 17,
   "id": "f2abae63",
   "metadata": {},
   "outputs": [
    {
     "name": "stderr",
     "output_type": "stream",
     "text": [
      "<ipython-input-17-c84727c8d2a0>:8: UserWarning: FixedFormatter should only be used together with FixedLocator\n",
      "  ax1.set_yticklabels(['{:,.2%}'.format(x) for x in ax1.get_yticks()])\n"
     ]
    },
    {
     "data": {
      "image/png": "[encoded data removed]",
      "text/plain": [
       "<Figure size 432x288 with 2 Axes>"
      ]
     },
     "metadata": {
      "needs_background": "light"
     },
     "output_type": "display_data"
    }
   ],
   "source": [
    "weekly_tweets_df = twitter_df[twitter_df['topic']=='interest rate'].groupby('week').agg({'id':'count'}).reset_index().sort_values('week')\n",
    "\n",
    "fig, ax1 = plt.subplots()\n",
    "ax1.set_ylabel('Interest Rate')\n",
    "ax1.set_xlabel('Week')\n",
    "ax1.plot(interest_sample_df.week, interest_sample_df.target_cash_rate, color='green')\n",
    "ax1.set_ylim([-0.002, 0.02])\n",
    "ax1.set_yticklabels(['{:,.2%}'.format(x) for x in ax1.get_yticks()])\n",
    "\n",
    "ax2 = ax1.twinx()\n",
    "ax2.bar(weekly_tweets_df.week,weekly_tweets_df.id)\n",
    "ax2.set_ylabel('Tweets')\n",
    "ax2.plot(interest_sample_df.week, interest_sample_df.target_cash_rate, color='green')\n",
    "\n",
    "plt.title('Interest Rate rises vs Tweet volume on the topic')\n",
    "plt.show()"
   ]
  },
  {
   "cell_type": "code",
   "execution_count": 18,
   "id": "1d0644f2",
   "metadata": {},
   "outputs": [
    {
     "name": "stderr",
     "output_type": "stream",
     "text": [
      "<ipython-input-18-b2591d2dfdc8>:7: UserWarning: FixedFormatter should only be used together with FixedLocator\n",
      "  ax1.set_yticklabels(['{:,.2%}'.format(x) for x in ax1.get_yticks()])\n"
     ]
    },
    {
     "data": {
      "image/png": "[encoded data removed]",
      "text/plain": [
       "<Figure size 432x288 with 2 Axes>"
      ]
     },
     "metadata": {
      "needs_background": "light"
     },
     "output_type": "display_data"
    }
   ],
   "source": [
    "weekly_tweets_df = twitter_df[twitter_df['topic']=='housing'].groupby('week').agg({'id':'count'}).reset_index().sort_values('week')\n",
    "fig, ax1 = plt.subplots()\n",
    "ax1.set_ylabel('Interest Rate')\n",
    "ax1.set_xlabel('Week')\n",
    "ax1.plot(interest_sample_df.week, interest_sample_df.target_cash_rate, color='green')\n",
    "ax1.set_ylim([-0.002, 0.02])\n",
    "ax1.set_yticklabels(['{:,.2%}'.format(x) for x in ax1.get_yticks()])\n",
    "\n",
    "ax2 = ax1.twinx()\n",
    "ax2.bar(weekly_tweets_df.week,weekly_tweets_df.id, color='#d16f69')\n",
    "ax2.set_ylabel('Tweets')\n",
    "\n",
    "plt.title('Interest Rates vs Tweets related to Housiong')\n",
    "plt.show()"
   ]
  },
  {
   "cell_type": "code",
   "execution_count": 19,
   "id": "1ea65cc9",
   "metadata": {},
   "outputs": [
    {
     "name": "stderr",
     "output_type": "stream",
     "text": [
      "<ipython-input-19-fe16acd46c28>:8: UserWarning: FixedFormatter should only be used together with FixedLocator\n",
      "  ax1.set_yticklabels(['{:,.2%}'.format(x) for x in ax1.get_yticks()])\n"
     ]
    },
    {
     "data": {
      "image/png": "[encoded data removed]",
      "text/plain": [
       "<Figure size 432x288 with 2 Axes>"
      ]
     },
     "metadata": {
      "needs_background": "light"
     },
     "output_type": "display_data"
    }
   ],
   "source": [
    "weekly_tweets_df = twitter_df[twitter_df['topic']=='inflation'].groupby('week').agg({'id':'count'}).reset_index().sort_values('week')\n",
    "fig, ax1 = plt.subplots()\n",
    "\n",
    "ax1.plot(list(inflation_sample_df.week), list(inflation_sample_df.cpi), color='red')\n",
    "ax1.set_ylabel('Inflation')\n",
    "ax1.set_xlabel('Week')\n",
    "ax1.set_ylim([-0.00, 0.08])\n",
    "ax1.set_yticklabels(['{:,.2%}'.format(x) for x in ax1.get_yticks()])\n",
    "\n",
    "\n",
    "ax2 = ax1.twinx()\n",
    "ax2.bar(weekly_tweets_df.week,weekly_tweets_df.id, color='#767878')\n",
    "ax2.set_ylabel('Tweets')\n",
    "\n",
    "plt.title('Inflation vs Tweet volume on the topic')\n",
    "plt.show()"
   ]
  },
  {
   "cell_type": "code",
   "execution_count": 20,
   "id": "5b83a213",
   "metadata": {},
   "outputs": [
    {
     "data": {
      "image/png": "[encoded data removed]",
      "text/plain": [
       "<Figure size 1080x360 with 1 Axes>"
      ]
     },
     "metadata": {
      "needs_background": "light"
     },
     "output_type": "display_data"
    }
   ],
   "source": [
    "data = twitter_df.groupby(['week','topic']).agg({'id':'count'}).reset_index().pivot('week','topic','id').reset_index()\n",
    "fig = plt.figure(figsize=(15, 5))\n",
    "ax = fig.add_subplot(111)\n",
    "width = 0.2\n",
    "ax.bar(data.week, data['interest rate'], width=width, label='Interest Rates')\n",
    "ax.bar(data.week+width, data.inflation, width=width, color='#767878', label='Inflation')\n",
    "ax.bar(data.week+width*2, data.housing, width=width, color='#d16f69', label='Housing')\n",
    "ax.bar(data.week+width*3, data['social security'], width=width, color='seagreen', label='Social Security')\n",
    "ax.set_title('Tweet volume by topic over time')\n",
    "ax.set_xlabel('Week')\n",
    "ax.set_ylabel('Tweets')\n",
    "\n",
    "#ax.set_xticks(data.week+width*2, tuple(data.week))\n",
    "ax.legend()\n",
    "plt.show()"
   ]
  },
  {
   "cell_type": "code",
   "execution_count": null,
   "id": "063861c1",
   "metadata": {},
   "outputs": [],
   "source": []
  }
 ],
 "metadata": {
  "kernelspec": {
   "display_name": "Python 3",
   "language": "python",
   "name": "python3"
  },
  "language_info": {
   "codemirror_mode": {
    "name": "ipython",
    "version": 3
   },
   "file_extension": ".py",
   "mimetype": "text/x-python",
   "name": "python",
   "nbconvert_exporter": "python",
   "pygments_lexer": "ipython3",
   "version": "3.8.8"
  }
 },
 "nbformat": 4,
 "nbformat_minor": 5
}
